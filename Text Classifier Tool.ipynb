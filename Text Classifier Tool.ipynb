{
 "cells": [
  {
   "cell_type": "code",
   "execution_count": 18,
   "metadata": {},
   "outputs": [],
   "source": [
    "import pandas as pd\n",
    "import numpy as np\n",
    "import nltk\n",
    "from nltk.tokenize import word_tokenize\n",
    "from nltk import pos_tag\n",
    "from nltk.corpus import stopwords\n",
    "from nltk.stem import WordNetLemmatizer\n",
    "from sklearn.preprocessing import LabelEncoder\n",
    "from collections import defaultdict\n",
    "from nltk.corpus import wordnet as wn\n",
    "from sklearn.feature_extraction.text import TfidfVectorizer\n",
    "from sklearn import model_selection, naive_bayes, svm\n",
    "from sklearn.metrics import accuracy_score"
   ]
  },
  {
   "cell_type": "code",
   "execution_count": 12,
   "metadata": {},
   "outputs": [],
   "source": [
    "corpus = pd.read_csv(r\"./Sample Data.csv\")"
   ]
  },
  {
   "cell_type": "code",
   "execution_count": 16,
   "metadata": {},
   "outputs": [
    {
     "data": {
      "text/html": [
       "<div>\n",
       "<style scoped>\n",
       "    .dataframe tbody tr th:only-of-type {\n",
       "        vertical-align: middle;\n",
       "    }\n",
       "\n",
       "    .dataframe tbody tr th {\n",
       "        vertical-align: top;\n",
       "    }\n",
       "\n",
       "    .dataframe thead th {\n",
       "        text-align: right;\n",
       "    }\n",
       "</style>\n",
       "<table border=\"1\" class=\"dataframe\">\n",
       "  <thead>\n",
       "    <tr style=\"text-align: right;\">\n",
       "      <th></th>\n",
       "      <th>Genre</th>\n",
       "      <th>Description</th>\n",
       "    </tr>\n",
       "  </thead>\n",
       "  <tbody>\n",
       "    <tr>\n",
       "      <th>0</th>\n",
       "      <td>Arts</td>\n",
       "      <td>[fresh, air, from, whyy, ,, the, peabody, awar...</td>\n",
       "    </tr>\n",
       "    <tr>\n",
       "      <th>1</th>\n",
       "      <td>Performing</td>\n",
       "      <td>[since, its, launch, in, 1997, ,, the, moth, h...</td>\n",
       "    </tr>\n",
       "    <tr>\n",
       "      <th>2</th>\n",
       "      <td>Design</td>\n",
       "      <td>[design, is, everywhere, in, our, lives, ,, pe...</td>\n",
       "    </tr>\n",
       "    <tr>\n",
       "      <th>3</th>\n",
       "      <td>Visual</td>\n",
       "      <td>[the, ifanboy.com, comic, book, podcast, is, a...</td>\n",
       "    </tr>\n",
       "    <tr>\n",
       "      <th>4</th>\n",
       "      <td>Literature</td>\n",
       "      <td>[jason, weiser, tells, stories, from, myths, ,...</td>\n",
       "    </tr>\n",
       "  </tbody>\n",
       "</table>\n",
       "</div>"
      ],
      "text/plain": [
       "        Genre                                        Description\n",
       "0        Arts  [fresh, air, from, whyy, ,, the, peabody, awar...\n",
       "1  Performing  [since, its, launch, in, 1997, ,, the, moth, h...\n",
       "2      Design  [design, is, everywhere, in, our, lives, ,, pe...\n",
       "3      Visual  [the, ifanboy.com, comic, book, podcast, is, a...\n",
       "4  Literature  [jason, weiser, tells, stories, from, myths, ,..."
      ]
     },
     "execution_count": 16,
     "metadata": {},
     "output_type": "execute_result"
    }
   ],
   "source": [
    "# Remove blank rows\n",
    "corpus['Description'].dropna(inplace=True)\n",
    "# Change all text to lower case\n",
    "corpus['Description'] = [entry.lower() for entry in corpus['Description']]\n",
    "# Tokenization\n",
    "corpus['Description']= [word_tokenize(entry) for entry in corpus['Description']]\n",
    "corpus.head()"
   ]
  },
  {
   "cell_type": "code",
   "execution_count": 36,
   "metadata": {},
   "outputs": [],
   "source": [
    "# Remove stop words, non-numeric and perfom Word Stemming/Lemmenting.\n",
    "tag_map = defaultdict(lambda : wn.NOUN)\n",
    "tag_map['J'] = wn.ADJ\n",
    "tag_map['V'] = wn.VERB\n",
    "tag_map['R'] = wn.ADV\n",
    "for index,entry in enumerate(corpus['Description']):\n",
    "    Final_words = []\n",
    "    word_Lemmatized = WordNetLemmatizer()\n",
    "    for word, tag in pos_tag(entry):\n",
    "        if word not in stopwords.words('english') and word.isalpha():\n",
    "            word_Final = word_Lemmatized.lemmatize(word,tag_map[tag[0]])\n",
    "            Final_words.append(word_Final)\n",
    "    corpus.loc[index,'description_final'] = str(Final_words)"
   ]
  },
  {
   "cell_type": "code",
   "execution_count": 37,
   "metadata": {},
   "outputs": [
    {
     "data": {
      "text/html": [
       "<div>\n",
       "<style scoped>\n",
       "    .dataframe tbody tr th:only-of-type {\n",
       "        vertical-align: middle;\n",
       "    }\n",
       "\n",
       "    .dataframe tbody tr th {\n",
       "        vertical-align: top;\n",
       "    }\n",
       "\n",
       "    .dataframe thead th {\n",
       "        text-align: right;\n",
       "    }\n",
       "</style>\n",
       "<table border=\"1\" class=\"dataframe\">\n",
       "  <thead>\n",
       "    <tr style=\"text-align: right;\">\n",
       "      <th></th>\n",
       "      <th>Genre</th>\n",
       "      <th>Description</th>\n",
       "      <th>desciption_final</th>\n",
       "      <th>description_final</th>\n",
       "    </tr>\n",
       "  </thead>\n",
       "  <tbody>\n",
       "    <tr>\n",
       "      <th>0</th>\n",
       "      <td>Arts</td>\n",
       "      <td>[fresh, air, from, whyy, ,, the, peabody, awar...</td>\n",
       "      <td>['fresh', 'air', 'whyy', 'peabody', 'weekday',...</td>\n",
       "      <td>['fresh', 'air', 'whyy', 'peabody', 'weekday',...</td>\n",
       "    </tr>\n",
       "    <tr>\n",
       "      <th>1</th>\n",
       "      <td>Performing</td>\n",
       "      <td>[since, its, launch, in, 1997, ,, the, moth, h...</td>\n",
       "      <td>['since', 'launch', 'moth', 'present', 'thousa...</td>\n",
       "      <td>['since', 'launch', 'moth', 'present', 'thousa...</td>\n",
       "    </tr>\n",
       "    <tr>\n",
       "      <th>2</th>\n",
       "      <td>Design</td>\n",
       "      <td>[design, is, everywhere, in, our, lives, ,, pe...</td>\n",
       "      <td>['design', 'everywhere', 'life', 'perhaps', 'i...</td>\n",
       "      <td>['design', 'everywhere', 'life', 'perhaps', 'i...</td>\n",
       "    </tr>\n",
       "    <tr>\n",
       "      <th>3</th>\n",
       "      <td>Visual</td>\n",
       "      <td>[the, ifanboy.com, comic, book, podcast, is, a...</td>\n",
       "      <td>['comic', 'book', 'podcast', 'weekly', 'talk',...</td>\n",
       "      <td>['comic', 'book', 'podcast', 'weekly', 'talk',...</td>\n",
       "    </tr>\n",
       "    <tr>\n",
       "      <th>4</th>\n",
       "      <td>Literature</td>\n",
       "      <td>[jason, weiser, tells, stories, from, myths, ,...</td>\n",
       "      <td>['jason', 'weiser', 'tell', 'story', 'myth', '...</td>\n",
       "      <td>['jason', 'weiser', 'tell', 'story', 'myth', '...</td>\n",
       "    </tr>\n",
       "  </tbody>\n",
       "</table>\n",
       "</div>"
      ],
      "text/plain": [
       "        Genre                                        Description  \\\n",
       "0        Arts  [fresh, air, from, whyy, ,, the, peabody, awar...   \n",
       "1  Performing  [since, its, launch, in, 1997, ,, the, moth, h...   \n",
       "2      Design  [design, is, everywhere, in, our, lives, ,, pe...   \n",
       "3      Visual  [the, ifanboy.com, comic, book, podcast, is, a...   \n",
       "4  Literature  [jason, weiser, tells, stories, from, myths, ,...   \n",
       "\n",
       "                                    desciption_final  \\\n",
       "0  ['fresh', 'air', 'whyy', 'peabody', 'weekday',...   \n",
       "1  ['since', 'launch', 'moth', 'present', 'thousa...   \n",
       "2  ['design', 'everywhere', 'life', 'perhaps', 'i...   \n",
       "3  ['comic', 'book', 'podcast', 'weekly', 'talk',...   \n",
       "4  ['jason', 'weiser', 'tell', 'story', 'myth', '...   \n",
       "\n",
       "                                   description_final  \n",
       "0  ['fresh', 'air', 'whyy', 'peabody', 'weekday',...  \n",
       "1  ['since', 'launch', 'moth', 'present', 'thousa...  \n",
       "2  ['design', 'everywhere', 'life', 'perhaps', 'i...  \n",
       "3  ['comic', 'book', 'podcast', 'weekly', 'talk',...  \n",
       "4  ['jason', 'weiser', 'tell', 'story', 'myth', '...  "
      ]
     },
     "execution_count": 37,
     "metadata": {},
     "output_type": "execute_result"
    }
   ],
   "source": [
    "corpus.head()"
   ]
  },
  {
   "cell_type": "code",
   "execution_count": 38,
   "metadata": {},
   "outputs": [],
   "source": [
    "Train_X, Test_X, Train_Y, Test_Y = model_selection.train_test_split(corpus['description_final'],corpus['Genre'],test_size=0.3)"
   ]
  },
  {
   "cell_type": "code",
   "execution_count": 39,
   "metadata": {},
   "outputs": [],
   "source": [
    "Encoder = LabelEncoder()\n",
    "Train_Y = Encoder.fit_transform(Train_Y)\n",
    "Test_Y = Encoder.fit_transform(Test_Y)"
   ]
  },
  {
   "cell_type": "code",
   "execution_count": 40,
   "metadata": {},
   "outputs": [],
   "source": [
    "Tfidf_vect = TfidfVectorizer(max_features=5000)\n",
    "Tfidf_vect.fit(corpus['description_final'])\n",
    "Train_X_Tfidf = Tfidf_vect.transform(Train_X)\n",
    "Test_X_Tfidf = Tfidf_vect.transform(Test_X)"
   ]
  },
  {
   "cell_type": "code",
   "execution_count": 41,
   "metadata": {},
   "outputs": [
    {
     "name": "stdout",
     "output_type": "stream",
     "text": [
      "Naive Bayes Accuracy Score ->  34.10757946210269\n"
     ]
    }
   ],
   "source": [
    "# fit the training dataset on the NB classifier\n",
    "Naive = naive_bayes.MultinomialNB()\n",
    "Naive.fit(Train_X_Tfidf,Train_Y)\n",
    "# predict the labels on validation dataset\n",
    "predictions_NB = Naive.predict(Test_X_Tfidf)\n",
    "# Use accuracy_score function to get the accuracy\n",
    "print(\"Naive Bayes Accuracy Score -> \",accuracy_score(predictions_NB, Test_Y)*100)"
   ]
  },
  {
   "cell_type": "code",
   "execution_count": null,
   "metadata": {},
   "outputs": [],
   "source": []
  },
  {
   "cell_type": "code",
   "execution_count": null,
   "metadata": {},
   "outputs": [],
   "source": []
  }
 ],
 "metadata": {
  "kernelspec": {
   "display_name": "Python 3",
   "language": "python",
   "name": "python3"
  },
  "language_info": {
   "codemirror_mode": {
    "name": "ipython",
    "version": 3
   },
   "file_extension": ".py",
   "mimetype": "text/x-python",
   "name": "python",
   "nbconvert_exporter": "python",
   "pygments_lexer": "ipython3",
   "version": "3.8.5"
  }
 },
 "nbformat": 4,
 "nbformat_minor": 4
}
